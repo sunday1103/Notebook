{
 "cells": [
  {
   "cell_type": "markdown",
   "metadata": {},
   "source": [
    "# 函数注意内容"
   ]
  },
  {
   "cell_type": "code",
   "execution_count": 2,
   "metadata": {},
   "outputs": [
    {
     "name": "stdout",
     "output_type": "stream",
     "text": [
      "12\n",
      "sdsdsdsd\n"
     ]
    }
   ],
   "source": [
    "'def是一个可以运行的语句，它的含义是定义一个函数对象，并且把这个对象赋值给变量times。'\n",
    "\n",
    "def times(x, y):\n",
    "    return x * y\n",
    "print(times(4, 3))\n",
    "print(times('sd',4)) # 函数多态的体现"
   ]
  },
  {
   "cell_type": "code",
   "execution_count": 3,
   "metadata": {},
   "outputs": [
    {
     "data": {
      "text/plain": [
       "'huangyang'"
      ]
     },
     "execution_count": 3,
     "metadata": {},
     "output_type": "execute_result"
    }
   ],
   "source": [
    "'函数是对象，可以为它绑定属性'\n",
    "times.aa = 'huangyang'\n",
    "times.aa"
   ]
  },
  {
   "cell_type": "code",
   "execution_count": 13,
   "metadata": {},
   "outputs": [
    {
     "name": "stdout",
     "output_type": "stream",
     "text": [
      "in f1, a is 10\n",
      "in f2\n",
      "in f1, b is 30\n"
     ]
    }
   ],
   "source": [
    "'def语句可以在if，while，函数等内部定义'\n",
    "a = 10\n",
    "def f1(num1):\n",
    "    a = num1 * 3\n",
    "    def f2(num2):\n",
    "        print('in f2')\n",
    "        return num2 * 10\n",
    "    print('in f1, a is %d' %a)\n",
    "    b = f2(a)\n",
    "    print('in f1, b is %d' %b)\n",
    "    return\n",
    "\n",
    "f1(1)"
   ]
  },
  {
   "cell_type": "code",
   "execution_count": 19,
   "metadata": {},
   "outputs": [
    {
     "name": "stdout",
     "output_type": "stream",
     "text": [
      "in f1, a is 3\n",
      "in f1, aa is 10\n",
      "in f2\n",
      "in f1, b is 30\n",
      "1\n"
     ]
    }
   ],
   "source": [
    "'作用域问题'\n",
    "a = 10\n",
    "def f1(num1):\n",
    "    a = num1 * 3\n",
    "    def f2(num2):\n",
    "        print('in f2')\n",
    "        return num2 * 10\n",
    "    print('in f1, a is %d' %a) #内部变量会覆盖a\n",
    "    print('in f1, aa is %d' %aa) #函数内可以使用全局变量\n",
    "    b = f2(a)\n",
    "    print('in f1, b is %d' %b)\n",
    "    return\n",
    "\n",
    "f1(1)\n",
    "f1.test = 1\n",
    "print(f1.test)"
   ]
  },
  {
   "cell_type": "markdown",
   "metadata": {},
   "source": [
    "# global 和 nonlocal，嵌套作用域"
   ]
  },
  {
   "cell_type": "code",
   "execution_count": null,
   "metadata": {
    "collapsed": true
   },
   "outputs": [],
   "source": [
    "# global and nonlocal\n",
    "'''global and nonlocal\n",
    "global 用于说明后面的变量位于全局作用域，这样在进行赋值操作的时候就创建了（之前没有出现）\n",
    "或者更改了变量的引用\n",
    "'''\n",
    "g1 = 10\n",
    "def f3(a1):\n",
    "    g2 = 11\n",
    "    global g3\n",
    "    g3 = 12\n",
    "    return\n",
    "print(g1)\n",
    "#print(g2)\n",
    "f3(1) #需要运行函数，才会有g3的定义\n",
    "print(g3)"
   ]
  },
  {
   "cell_type": "code",
   "execution_count": 3,
   "metadata": {},
   "outputs": [
    {
     "name": "stdout",
     "output_type": "stream",
     "text": [
      "spam 0\n",
      "ham 1\n"
     ]
    }
   ],
   "source": [
    "'''global and nonlocal\n",
    "nonlocal 用于说明嵌套定义的函数内可以更改上层作用域中的变量\n",
    "\n",
    "下面的nonlocal 之后才能更改state的值，如果没有这个语句，则state不能修改\n",
    "\n",
    "nonlocal 后面的变量，必须在上层作用域中存在\n",
    "'''\n",
    "def tester(start):\n",
    "    state = start\n",
    "    def nested(label):\n",
    "        nonlocal state\n",
    "        print(label, state)\n",
    "        state += 1\n",
    "    return nested\n",
    "f = tester(0)\n",
    "f('spam')\n",
    "f('ham')"
   ]
  },
  {
   "cell_type": "code",
   "execution_count": 4,
   "metadata": {},
   "outputs": [
    {
     "name": "stdout",
     "output_type": "stream",
     "text": [
      "9\n",
      "16\n",
      "27\n",
      "64\n"
     ]
    }
   ],
   "source": [
    "'''注意在上面的嵌套作用域中，函数nested能够记住其中引用的变量的值，能记住状态。'''\n",
    "def maker(N):\n",
    "    def action(x):\n",
    "        return x ** N\n",
    "    return action\n",
    "\n",
    "f = maker(2)\n",
    "print(f(3))\n",
    "print(f(4))\n",
    "\n",
    "f = maker(3)\n",
    "print(f(3))\n",
    "print(f(4))"
   ]
  },
  {
   "cell_type": "markdown",
   "metadata": {},
   "source": [
    "# 函数参数传递\n",
    "函数传递参数的时候，注意是可变对象还是不可变对象\n",
    "1. 可变对象传递进去可以对变量进行修改，会影响调用者的数据\n",
    "2. 不可变对象因为不能修改，相当于是值传递\n",
    "如果对可变对象传递，让其不影响调用者数据，可以：\n",
    "def changer(a,b):\n",
    "    b = b[:]   # 方法一\n",
    "L = [1,2]\n",
    "changer(1, L[:])  #方法二"
   ]
  },
  {
   "cell_type": "markdown",
   "metadata": {},
   "source": [
    "# lambda 函数"
   ]
  },
  {
   "cell_type": "markdown",
   "metadata": {},
   "source": [
    "# map 函数"
   ]
  },
  {
   "cell_type": "code",
   "execution_count": 5,
   "metadata": {},
   "outputs": [
    {
     "name": "stdout",
     "output_type": "stream",
     "text": [
      "[4, 5, 6, 7]\n",
      "[1, 8, 81]\n"
     ]
    }
   ],
   "source": [
    "a = [1,2,3,4]\n",
    "l1 = list(map(lambda x: x + 3, a)) # 计算 a中所有元素加3\n",
    "print(l1)\n",
    "l2 = list(map(pow, [1,2,3], [2,3,4])) # 计算 1**2  2**3  3**4\n",
    "print(l2)"
   ]
  },
  {
   "cell_type": "markdown",
   "metadata": {},
   "source": [
    "# filter 函数"
   ]
  },
  {
   "cell_type": "code",
   "execution_count": 6,
   "metadata": {},
   "outputs": [
    {
     "data": {
      "text/plain": [
       "[-10, -8, -6, -4, -2, 0, 2, 4, 6, 8]"
      ]
     },
     "execution_count": 6,
     "metadata": {},
     "output_type": "execute_result"
    }
   ],
   "source": [
    "list(filter(lambda x: x % 2 == 0, range(-10,10)))"
   ]
  },
  {
   "cell_type": "markdown",
   "metadata": {},
   "source": [
    "# reduce 函数"
   ]
  },
  {
   "cell_type": "markdown",
   "metadata": {},
   "source": [
    "# 函数的本地变量是静态检测的"
   ]
  },
  {
   "cell_type": "code",
   "execution_count": 2,
   "metadata": {},
   "outputs": [
    {
     "ename": "UnboundLocalError",
     "evalue": "local variable 'x' referenced before assignment",
     "output_type": "error",
     "traceback": [
      "\u001b[1;31m---------------------------------------------------------------------------\u001b[0m",
      "\u001b[1;31mUnboundLocalError\u001b[0m                         Traceback (most recent call last)",
      "\u001b[1;32m<ipython-input-2-0a5d6cb6e270>\u001b[0m in \u001b[0;36m<module>\u001b[1;34m()\u001b[0m\n\u001b[0;32m      4\u001b[0m     \u001b[0mprint\u001b[0m\u001b[1;33m(\u001b[0m\u001b[0mx\u001b[0m\u001b[1;33m)\u001b[0m\u001b[1;33m\u001b[0m\u001b[0m\n\u001b[0;32m      5\u001b[0m     \u001b[0mx\u001b[0m \u001b[1;33m=\u001b[0m \u001b[1;36m100\u001b[0m\u001b[1;33m\u001b[0m\u001b[0m\n\u001b[1;32m----> 6\u001b[1;33m \u001b[0mf1\u001b[0m\u001b[1;33m(\u001b[0m\u001b[1;33m)\u001b[0m\u001b[1;33m\u001b[0m\u001b[0m\n\u001b[0m",
      "\u001b[1;32m<ipython-input-2-0a5d6cb6e270>\u001b[0m in \u001b[0;36mf1\u001b[1;34m()\u001b[0m\n\u001b[0;32m      2\u001b[0m \u001b[0mx\u001b[0m \u001b[1;33m=\u001b[0m \u001b[1;36m99\u001b[0m\u001b[1;33m\u001b[0m\u001b[0m\n\u001b[0;32m      3\u001b[0m \u001b[1;32mdef\u001b[0m \u001b[0mf1\u001b[0m\u001b[1;33m(\u001b[0m\u001b[1;33m)\u001b[0m\u001b[1;33m:\u001b[0m\u001b[1;33m\u001b[0m\u001b[0m\n\u001b[1;32m----> 4\u001b[1;33m     \u001b[0mprint\u001b[0m\u001b[1;33m(\u001b[0m\u001b[0mx\u001b[0m\u001b[1;33m)\u001b[0m\u001b[1;33m\u001b[0m\u001b[0m\n\u001b[0m\u001b[0;32m      5\u001b[0m     \u001b[0mx\u001b[0m \u001b[1;33m=\u001b[0m \u001b[1;36m100\u001b[0m\u001b[1;33m\u001b[0m\u001b[0m\n\u001b[0;32m      6\u001b[0m \u001b[0mf1\u001b[0m\u001b[1;33m(\u001b[0m\u001b[1;33m)\u001b[0m\u001b[1;33m\u001b[0m\u001b[0m\n",
      "\u001b[1;31mUnboundLocalError\u001b[0m: local variable 'x' referenced before assignment"
     ]
    }
   ],
   "source": [
    "'''函数的本地变量是静态检测的'''\n",
    "x = 99\n",
    "def f1():\n",
    "    print(x)\n",
    "    x = 100\n",
    "f1()\n",
    "'上面的函数x是本地变量，没有定义之前就使用了，所以会出错'"
   ]
  },
  {
   "cell_type": "code",
   "execution_count": 7,
   "metadata": {},
   "outputs": [
    {
     "name": "stdout",
     "output_type": "stream",
     "text": [
      "99\n",
      "__main__\n"
     ]
    }
   ],
   "source": [
    "'可以通过这个方法来实现上面代码想实现的功能'\n",
    "x = 99\n",
    "def f1():\n",
    "    import __main__\n",
    "    print(__main__.x)\n",
    "    x = 100\n",
    "f1()\n",
    "print(__name__)"
   ]
  },
  {
   "cell_type": "markdown",
   "metadata": {},
   "source": [
    "# 函数的默认参数是在def语句运行时评估并保存的"
   ]
  },
  {
   "cell_type": "code",
   "execution_count": 8,
   "metadata": {},
   "outputs": [
    {
     "name": "stdout",
     "output_type": "stream",
     "text": [
      "10\n"
     ]
    }
   ],
   "source": [
    "def f1(N):\n",
    "    def f2(a = N):\n",
    "        print(a)\n",
    "    return f2\n",
    "\n",
    "q = f1(10)\n",
    "q()"
   ]
  },
  {
   "cell_type": "markdown",
   "metadata": {},
   "source": [
    "# 如果默认参数是可变参数的话，那么该参数在函数所有运行过程只有一个实例"
   ]
  },
  {
   "cell_type": "code",
   "execution_count": 10,
   "metadata": {},
   "outputs": [
    {
     "name": "stdout",
     "output_type": "stream",
     "text": [
      "[2, 1]\n",
      "[1]\n",
      "[1, 1]\n",
      "[1, 1, 1]\n"
     ]
    }
   ],
   "source": [
    "'[]是一个可变的参数，当函数定义语句def执行时，就固定下来了，然后后续的每次调用都用一个示例'\n",
    "def saver(x = []):\n",
    "    x.append(1)\n",
    "    print(x)\n",
    "\n",
    "saver([2])\n",
    "saver()\n",
    "saver()\n",
    "saver()"
   ]
  },
  {
   "cell_type": "code",
   "execution_count": null,
   "metadata": {
    "collapsed": true
   },
   "outputs": [],
   "source": [
    "'为了解决这个问题，可以这样1'\n",
    "def saver(x = None):\n",
    "    if x is None:\n",
    "        x = []\n",
    "    x.append(1)\n",
    "    print(x)"
   ]
  },
  {
   "cell_type": "markdown",
   "metadata": {},
   "source": [
    "# 嵌套作用域的的循环变量\n",
    "这里暂时略过"
   ]
  },
  {
   "cell_type": "code",
   "execution_count": 8,
   "metadata": {},
   "outputs": [
    {
     "data": {
      "text/plain": [
       "10"
      ]
     },
     "execution_count": 8,
     "metadata": {},
     "output_type": "execute_result"
    }
   ],
   "source": [
    "from functools import reduce\n",
    "reduce(lambda x, y: x + y,[1,2,3,4])"
   ]
  },
  {
   "cell_type": "markdown",
   "metadata": {},
   "source": [
    "# 需要注意的地方"
   ]
  },
  {
   "cell_type": "markdown",
   "metadata": {},
   "source": [
    "## 函数的本地变量是静态检测的"
   ]
  },
  {
   "cell_type": "code",
   "execution_count": 1,
   "metadata": {},
   "outputs": [
    {
     "ename": "UnboundLocalError",
     "evalue": "local variable 'x' referenced before assignment",
     "output_type": "error",
     "traceback": [
      "\u001b[1;31m---------------------------------------------------------------------------\u001b[0m",
      "\u001b[1;31mUnboundLocalError\u001b[0m                         Traceback (most recent call last)",
      "\u001b[1;32m<ipython-input-1-6701c31e3838>\u001b[0m in \u001b[0;36m<module>\u001b[1;34m()\u001b[0m\n\u001b[0;32m      4\u001b[0m     \u001b[0mprint\u001b[0m\u001b[1;33m(\u001b[0m\u001b[0mx\u001b[0m\u001b[1;33m)\u001b[0m\u001b[1;33m\u001b[0m\u001b[0m\n\u001b[0;32m      5\u001b[0m     \u001b[0mx\u001b[0m \u001b[1;33m=\u001b[0m \u001b[1;36m100\u001b[0m\u001b[1;33m\u001b[0m\u001b[0m\n\u001b[1;32m----> 6\u001b[1;33m \u001b[0mf1\u001b[0m\u001b[1;33m(\u001b[0m\u001b[1;33m)\u001b[0m\u001b[1;33m\u001b[0m\u001b[0m\n\u001b[0m\u001b[0;32m      7\u001b[0m \u001b[1;34m'上面的函数x是本地变量，没有定义之前就使用了，所以会出错'\u001b[0m\u001b[1;33m\u001b[0m\u001b[0m\n",
      "\u001b[1;32m<ipython-input-1-6701c31e3838>\u001b[0m in \u001b[0;36mf1\u001b[1;34m()\u001b[0m\n\u001b[0;32m      2\u001b[0m \u001b[0mx\u001b[0m \u001b[1;33m=\u001b[0m \u001b[1;36m99\u001b[0m\u001b[1;33m\u001b[0m\u001b[0m\n\u001b[0;32m      3\u001b[0m \u001b[1;32mdef\u001b[0m \u001b[0mf1\u001b[0m\u001b[1;33m(\u001b[0m\u001b[1;33m)\u001b[0m\u001b[1;33m:\u001b[0m\u001b[1;33m\u001b[0m\u001b[0m\n\u001b[1;32m----> 4\u001b[1;33m     \u001b[0mprint\u001b[0m\u001b[1;33m(\u001b[0m\u001b[0mx\u001b[0m\u001b[1;33m)\u001b[0m\u001b[1;33m\u001b[0m\u001b[0m\n\u001b[0m\u001b[0;32m      5\u001b[0m     \u001b[0mx\u001b[0m \u001b[1;33m=\u001b[0m \u001b[1;36m100\u001b[0m\u001b[1;33m\u001b[0m\u001b[0m\n\u001b[0;32m      6\u001b[0m \u001b[0mf1\u001b[0m\u001b[1;33m(\u001b[0m\u001b[1;33m)\u001b[0m\u001b[1;33m\u001b[0m\u001b[0m\n",
      "\u001b[1;31mUnboundLocalError\u001b[0m: local variable 'x' referenced before assignment"
     ]
    }
   ],
   "source": [
    "'''函数的本地变量是静态检测的'''\n",
    "x = 99\n",
    "def f1():\n",
    "    print(x)\n",
    "    x = 100\n",
    "f1()\n",
    "'上面的函数x是本地变量，没有定义之前就使用了，所以会出错'"
   ]
  },
  {
   "cell_type": "code",
   "execution_count": 2,
   "metadata": {},
   "outputs": [
    {
     "name": "stdout",
     "output_type": "stream",
     "text": [
      "99\n",
      "__main__\n"
     ]
    }
   ],
   "source": [
    "'可以通过这个方法来实现上面代码想实现的功能'\n",
    "x = 99\n",
    "def f1():\n",
    "    import __main__\n",
    "    print(__main__.x)\n",
    "    x = 100\n",
    "f1()\n",
    "print(__name__)"
   ]
  },
  {
   "cell_type": "markdown",
   "metadata": {},
   "source": [
    "## 函数的默认参数是在def语句运行时评估并保存的"
   ]
  },
  {
   "cell_type": "code",
   "execution_count": 3,
   "metadata": {},
   "outputs": [
    {
     "name": "stdout",
     "output_type": "stream",
     "text": [
      "10\n"
     ]
    }
   ],
   "source": [
    "def f1(N):\n",
    "    def f2(a = N):\n",
    "        print(a)\n",
    "    return f2\n",
    "\n",
    "q = f1(10)\n",
    "q()"
   ]
  },
  {
   "cell_type": "markdown",
   "metadata": {},
   "source": [
    "## 如果默认参数是可变参数的话，那么该参数在函数所有运行过程只有一个实例"
   ]
  },
  {
   "cell_type": "code",
   "execution_count": 4,
   "metadata": {},
   "outputs": [
    {
     "name": "stdout",
     "output_type": "stream",
     "text": [
      "[2, 1]\n",
      "[1]\n",
      "[1, 1]\n",
      "[1, 1, 1]\n"
     ]
    }
   ],
   "source": [
    "'[]是一个可变的参数，当函数定义语句def执行时，就固定下来了，然后后续的每次调用都用一个示例'\n",
    "def saver(x = []):\n",
    "    x.append(1)\n",
    "    print(x)\n",
    "\n",
    "saver([2])\n",
    "saver()\n",
    "saver()\n",
    "saver()"
   ]
  },
  {
   "cell_type": "code",
   "execution_count": 6,
   "metadata": {
    "collapsed": true
   },
   "outputs": [],
   "source": [
    "'为了解决这个问题，可以这样1'\n",
    "def saver(x = None):\n",
    "    if x is None:\n",
    "        x = []\n",
    "    x.append(1)\n",
    "    print(x)"
   ]
  }
 ],
 "metadata": {
  "anaconda-cloud": {},
  "kernelspec": {
   "display_name": "Python 3",
   "language": "python",
   "name": "python3"
  },
  "language_info": {
   "codemirror_mode": {
    "name": "ipython",
    "version": 3
   },
   "file_extension": ".py",
   "mimetype": "text/x-python",
   "name": "python",
   "nbconvert_exporter": "python",
   "pygments_lexer": "ipython3",
   "version": "3.6.1"
  }
 },
 "nbformat": 4,
 "nbformat_minor": 1
}

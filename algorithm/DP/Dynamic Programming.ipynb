{
 "cells": [
  {
   "cell_type": "markdown",
   "metadata": {},
   "source": [
    "# 引例\n",
    "\n",
    "## 题目\n",
    ">  有一座高度是10级台阶的楼梯，从下往上走，每跨一步只能向上1级或者2级台阶。要求用程序来求出一共有多少种走法。\n",
    "比如，每次走1级台阶，一共走10步，这是其中一种走法。我们可以简写成 1,1,1,1,1,1,1,1,1,1。\n",
    "\n",
    "## 定义\n",
    "假设楼梯高度是n，走法是F(n)。"
   ]
  },
  {
   "cell_type": "markdown",
   "metadata": {},
   "source": [
    "## 暴力递归\n",
    "\n",
    "最后一步要么是1级，要么是2级，所以有：\n",
    "F(n) = F(n - 1) + F(n - 2)\n",
    "有了这个递推关系，就可以有下面的程序实现"
   ]
  },
  {
   "cell_type": "code",
   "execution_count": 6,
   "metadata": {},
   "outputs": [
    {
     "data": {
      "text/plain": [
       "89"
      ]
     },
     "execution_count": 6,
     "metadata": {},
     "output_type": "execute_result"
    }
   ],
   "source": [
    "def CalStepNumber(N):\n",
    "    if N == 1:\n",
    "        return 1\n",
    "    if N == 2:\n",
    "        return 2\n",
    "    \n",
    "    return CalStepNumber(N - 1) + CalStepNumber(N - 2) \n",
    "\n",
    "CalStepNumber(10)"
   ]
  },
  {
   "cell_type": "markdown",
   "metadata": {},
   "source": [
    "这种递归方式会导致大量重复的计算，比如：\n",
    "\n",
    "F(10) = F(9) + **F(8)**\n",
    "\n",
    "F(9) = **F(8)** + F(7)\n",
    "\n",
    "为了减少重复计算，可以将中间计算结果保持起来。\n",
    "这种就叫做状态记录的递归。"
   ]
  },
  {
   "cell_type": "markdown",
   "metadata": {},
   "source": [
    "## 状态记录递归\n",
    "使用变量存储已经计算过的结果。"
   ]
  },
  {
   "cell_type": "code",
   "execution_count": 8,
   "metadata": {},
   "outputs": [
    {
     "data": {
      "text/plain": [
       "89"
      ]
     },
     "execution_count": 8,
     "metadata": {},
     "output_type": "execute_result"
    }
   ],
   "source": [
    "record = {}\n",
    "record[1] = 1\n",
    "record[2] = 2\n",
    "def CalStepNumber1(N):\n",
    "    if N in record:\n",
    "        return record[N]\n",
    "    \n",
    "    return CalStepNumber1(N - 1) + CalStepNumber1(N - 2)\n",
    "\n",
    "CalStepNumber1(10)"
   ]
  },
  {
   "cell_type": "markdown",
   "metadata": {},
   "source": [
    "状态记录的递归有效的降低了递归的时间复杂度，但是不可避免的会需要更多的空间来存储中间结果。\n",
    "\n",
    "那么怎么才能降低空间复杂度，我们可以转换思路，将自顶向下的递归变为自底向上的递推。\n",
    "\n",
    "**自顶向下的递归 --> 自底向上的递推。**"
   ]
  },
  {
   "cell_type": "markdown",
   "metadata": {},
   "source": [
    "## 自底向上的递推：动态规划\n",
    "F(3) = F(2) + F(1)\n",
    "\n",
    "F(N) = F(N-1) + F(N-2)\n",
    "\n",
    "为了计算N级楼梯的方法数目，只需要前两个状态的结果就可以了。"
   ]
  },
  {
   "cell_type": "code",
   "execution_count": 13,
   "metadata": {},
   "outputs": [
    {
     "data": {
      "text/plain": [
       "89"
      ]
     },
     "execution_count": 13,
     "metadata": {},
     "output_type": "execute_result"
    }
   ],
   "source": [
    "def CalStepNumber2(N):\n",
    "    if N == 1:\n",
    "        return 1\n",
    "    if N == 2:\n",
    "        return 2\n",
    "    \n",
    "    F_N_1 = 2\n",
    "    F_N_2 = 1\n",
    "    \n",
    "    for i in range(3, N):\n",
    "        F_N_1, F_N_2 = F_N_1 + F_N_2, F_N_1\n",
    "        \n",
    "    return F_N_1 + F_N_2\n",
    "        \n",
    "CalStepNumber2(10)"
   ]
  },
  {
   "cell_type": "markdown",
   "metadata": {},
   "source": [
    "# 动态规划基础\n",
    "参见： \n",
    "什么是动态规划？动态规划的意义是什么？ - 王勐的回答： http://www.zhihu.com/question/23995189/answer/35429905\n",
    "\n",
    ">每个阶段只有一个状态->递推；\n",
    "\n",
    ">每个阶段的最优状态都是由上一个阶段的最优状态得到的->贪心；\n",
    "\n",
    ">每个阶段的最优状态是由之前所有阶段的状态的组合得到的->搜索；\n",
    "\n",
    ">每个阶段的最优状态可以从之前某个阶段的某个或某些状态直接得到而不管之前这个状态是如何得到的->动态规划。\n",
    "\n",
    ">每个阶段的最优状态可以从之前某个阶段的某个或某些状态直接得到这个性质叫做最优子结构；而不管之前这个状态是如何得到的这个性质叫做无后效性。\n",
    "\n",
    "## 求解问题步骤\n",
    "1. 寻找问题的子问题\n",
    "2. 根据子问题定义子状态\n",
    "3. 寻找状态之间的状态转移方程\n",
    "\n",
    "## 例子"
   ]
  }
 ],
 "metadata": {
  "kernelspec": {
   "display_name": "Python 3",
   "language": "python",
   "name": "python3"
  },
  "language_info": {
   "codemirror_mode": {
    "name": "ipython",
    "version": 3
   },
   "file_extension": ".py",
   "mimetype": "text/x-python",
   "name": "python",
   "nbconvert_exporter": "python",
   "pygments_lexer": "ipython3",
   "version": "3.6.1"
  }
 },
 "nbformat": 4,
 "nbformat_minor": 2
}

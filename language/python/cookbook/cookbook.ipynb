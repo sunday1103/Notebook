{
 "nbformat": 4,
 "nbformat_minor": 2,
 "metadata": {
  "language_info": {
   "name": "python",
   "codemirror_mode": {
    "name": "ipython",
    "version": 3
   },
   "version": "3.7.3-final"
  },
  "orig_nbformat": 2,
  "file_extension": ".py",
  "mimetype": "text/x-python",
  "name": "python",
  "npconvert_exporter": "python",
  "pygments_lexer": "ipython3",
  "version": 3,
  "kernelspec": {
   "name": "python37364bitbaseconda148517fae7d6487f9ceeb431255cc58a",
   "language": "python",
   "display_name": "Python 3.7.3 64-bit ('base': conda)"
  },
  "pycharm": {
   "stem_cell": {
    "cell_type": "raw",
    "source": [],
    "metadata": {
     "collapsed": false
    }
   }
  }
 },
 "cells": [
  {
   "cell_type": "markdown",
   "execution_count": 14,
   "metadata": {},
   "outputs": [],
   "source": [
    "# 数据结构和算法"
   ]
  },
  {
   "cell_type": "code",
   "execution_count": 9,
   "metadata": {},
   "outputs": [
    {
     "name": "stdout",
     "output_type": "stream",
     "text": "1 2 4\n"
    }
   ],
   "source": [
    "# 1.1 解压序列赋值给多个变量\n",
    "a = (1,2,3,4)\n",
    "a1, a2, _, a4 = a\n",
    "print(a1, a2, a4)"
   ]
  },
  {
   "cell_type": "code",
   "execution_count": 12,
   "metadata": {},
   "outputs": [
    {
     "name": "stdout",
     "output_type": "stream",
     "text": "1\n[2, 3]\n4\n[1, 2, 3]\n4\n"
    }
   ],
   "source": [
    "# 1.2 使用*号匹配列表\n",
    "b1, *b2, b3 = a\n",
    "print(b1)\n",
    "print(b2)\n",
    "print(b3)\n",
    "\n",
    "*c1, c2 = a\n",
    "print(c1)\n",
    "print(c2)"
   ]
  },
  {
   "cell_type": "code",
   "execution_count": 2,
   "metadata": {
    "pycharm": {
     "is_executing": false
    }
   },
   "outputs": [
    {
     "name": "stdout",
     "text": [
      "indexmodules |next |previous | Python ?   Documentation ? The Python Standard Library ? Data Persistence ?\n",
      "--------------------\n",
      "indexmodules |next |previous | Python ?   Documentation ? The Python Standard Library ? Data Persistence ?\n",
      "Quick search\n",
      "  |\n",
      "shelve — Python object persistence\n",
      "--------------------\n",
      "Quick search\n",
      "  |\n",
      "shelve — Python object persistence\n",
      "Source code: Lib/shelve.py\n",
      "\n",
      "A “shelf” is a persistent, dictionary-like object. The difference with “dbm” databases is that the values (not the keys!) in a shelf can be essentially arbitrary Python objects — anything that the pickle module can handle. This includes most class instances, recursive data types, and objects containing lots of shared sub-objects. The keys are ordinary strings.\n",
      "--------------------\n",
      "shelve.open(filename, flag='c', protocol=None, writeback=False)\n",
      "Open a persistent dictionary. The filename specified is the base filename for the underlying database. As a side-effect, an extension may be added to the filename and more than one file may be created. By default, the underlying database file is opened for reading and writing. The optional flag parameter has the same interpretation as the flag parameter of dbm.open().\n",
      "\n",
      "By default, version 3 pickles are used to serialize values. The version of the pickle protocol can be specified with the protocol parameter.\n",
      "\n",
      "Because of Python semantics, a shelf cannot know when a mutable persistent-dictionary entry is modified. By default modified objects are written only when assigned to the shelf (see Example). If the optional writeback parameter is set to True, all entries accessed are also cached in memory, and written back on sync() and close(); this can make it handier to mutate mutable entries in the persistent dictionary, but, if many entries are accessed, it can consume vast amounts of memory for the cache, and it can make the close operation very slow since all accessed entries are written back (there is no way to determine which accessed entries are mutable, nor which ones were actually mutated).\n",
      "--------------------\n",
      "\n",
      "Module pickle\n",
      "Object serialization used by shelve.\n",
      "\n",
      "Table of Contents\n",
      "shelve — Python object persistence\n",
      "--------------------\n",
      "Example\n",
      "Previous topic\n",
      "copyreg — Register pickle support functions\n",
      "\n",
      "Next topic\n",
      "marshal — Internal Python object serialization\n",
      "--------------------\n",
      "\n",
      "This Page\n",
      "Report a Bug\n",
      "Show Source\n",
      "?\n",
      "indexmodules |next |previous | Python ?   Documentation ? The Python Standard Library ? Data Persistence ?\n",
      "--------------------\n",
      "Show Source\n",
      "?\n",
      "indexmodules |next |previous | Python ?   Documentation ? The Python Standard Library ? Data Persistence ?\n",
      "Quick search\n",
      "  |\n",
      "? Copyright 2001-2020, Python Software Foundation.\n",
      "--------------------\n",
      "?\n",
      "indexmodules |next |previous | Python ?   Documentation ? The Python Standard Library ? Data Persistence ?\n",
      "Quick search\n",
      "  |\n",
      "? Copyright 2001-2020, Python Software Foundation.\n",
      "The Python Software Foundation is a non-profit corporation. Please donate.\n",
      "--------------------\n"
     ],
     "output_type": "stream"
    }
   ],
   "source": [
    "# 1.3 deque 保留最后 N 个元素\n",
    "from collections import deque\n",
    "def search(lines, pattern, history=5):\n",
    "    previous_lines = deque(maxlen=history)\n",
    "    for line in lines:\n",
    "        if pattern in line:\n",
    "            yield line, previous_lines\n",
    "        previous_lines.append(line)\n",
    "\n",
    "# Example use on a file\n",
    "if __name__ == '__main__':\n",
    "    with open(r'./txt.txt') as f:\n",
    "        for line, prevlines in search(f, 'Python', 5):\n",
    "            for pline in prevlines:\n",
    "                print(pline, end='')\n",
    "            print(line, end='')\n",
    "            print('-' * 20)"
   ]
  },
  {
   "cell_type": "code",
   "execution_count": 1,
   "metadata": {
    "pycharm": {
     "is_executing": false
    }
   },
   "outputs": [
    {
     "name": "stdout",
     "text": [
      "[42, 37, 23]\n",
      "[-4, 1, 2]\n"
     ],
     "output_type": "stream"
    }
   ],
   "source": [
    "# 1.4 查找最大或最小的 N 个元素\n",
    "import heapq\n",
    "nums = [1, 8, 2, 23, 7, -4, 18, 23, 42, 37, 2]\n",
    "print(heapq.nlargest(3, nums)) # Prints [42, 37, 23]\n",
    "print(heapq.nsmallest(3, nums)) # Prints [-4, 1, 2]\n",
    "\n",
    "portfolio = [\n",
    "    {'name': 'IBM', 'shares': 100, 'price': 91.1},\n",
    "    {'name': 'AAPL', 'shares': 50, 'price': 543.22},\n",
    "    {'name': 'FB', 'shares': 200, 'price': 21.09},\n",
    "    {'name': 'HPQ', 'shares': 35, 'price': 31.75},\n",
    "    {'name': 'YHOO', 'shares': 45, 'price': 16.35},\n",
    "    {'name': 'ACME', 'shares': 75, 'price': 115.65}\n",
    "]\n",
    "cheap = heapq.nsmallest(3, portfolio, key=lambda s: s['price'])\n",
    "expensive = heapq.nlargest(3, portfolio, key=lambda s: s['price'])"
   ]
  }
 ]
}
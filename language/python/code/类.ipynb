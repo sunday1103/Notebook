{
 "cells": [
  {
   "cell_type": "markdown",
   "metadata": {},
   "source": [
    "# 类基本\n",
    "类就是定义一个***继承体系***"
   ]
  },
  {
   "cell_type": "code",
   "execution_count": 4,
   "metadata": {
    "collapsed": false
   },
   "outputs": [
    {
     "name": "stdout",
     "output_type": "stream",
     "text": [
      "class c1\n",
      "class c1\n"
     ]
    }
   ],
   "source": [
    "class c2:\n",
    "    pass\n",
    "class c3:\n",
    "    pass\n",
    "class c1(c2,c3):\n",
    "    pass\n",
    "I1 = c1()\n",
    "I2 = c1()\n",
    "'''\n",
    "c2   c3\n",
    "|_____|\n",
    "   |\n",
    "   c1\n",
    " __|___\n",
    "|      |\n",
    "I1     I2\n",
    "类是一种对象，\n",
    "类的实例也是一种对象，\n",
    "类的实例继承类的属性\n",
    "'''\n",
    "c1.name = 'class c1'\n",
    "print(c1.name)\n",
    "print(I1.name)\n",
    "# print(c2.name) c2 has no attribute 'name'"
   ]
  },
  {
   "cell_type": "markdown",
   "metadata": {},
   "source": [
    "# 类对象和实例对象\n",
    "class 语句类似def，是定义一个类的对象，并将引用赋值给类名。"
   ]
  },
  {
   "cell_type": "code",
   "execution_count": 16,
   "metadata": {
    "collapsed": false
   },
   "outputs": [
    {
     "name": "stdout",
     "output_type": "stream",
     "text": [
      "hy\n",
      "1\n",
      "10\n",
      "10\n",
      "12\n"
     ]
    }
   ],
   "source": [
    "class firstClass:\n",
    "    d = 10\n",
    "    def setdata(self,value):\n",
    "        self.data = value\n",
    "    def display(self):\n",
    "        print(self.data)\n",
    "    def display1(self):\n",
    "        print(self.d)\n",
    "x = firstClass()\n",
    "y = firstClass()\n",
    "x.setdata('hy')\n",
    "x.display()\n",
    "y.setdata(1)\n",
    "y.display()\n",
    "print(y.d)\n",
    "y.display1()\n",
    "\n",
    "firstClass.qq = 12\n",
    "print(y.qq)"
   ]
  },
  {
   "cell_type": "markdown",
   "metadata": {},
   "source": [
    "# 类截获Python运算符\n",
    "- __X__命名的方法\n",
    "- 运算符没有默认值，比如，没有定义 __add__，那么+表达式就会引发异常"
   ]
  }
 ],
 "metadata": {
  "kernelspec": {
   "display_name": "Python [conda root]",
   "language": "python",
   "name": "conda-root-py"
  },
  "language_info": {
   "codemirror_mode": {
    "name": "ipython",
    "version": 3
   },
   "file_extension": ".py",
   "mimetype": "text/x-python",
   "name": "python",
   "nbconvert_exporter": "python",
   "pygments_lexer": "ipython3",
   "version": "3.5.2"
  }
 },
 "nbformat": 4,
 "nbformat_minor": 1
}

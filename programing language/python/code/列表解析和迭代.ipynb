{
 "cells": [
  {
   "cell_type": "markdown",
   "metadata": {},
   "source": [
    "# 列表解析\n",
    "在运行速度上\n",
    "列表解析 > map > for\n",
    "列表解析和map都是c实现，而for是需要pvm运行支持"
   ]
  },
  {
   "cell_type": "code",
   "execution_count": 7,
   "metadata": {
    "collapsed": false
   },
   "outputs": [
    {
     "name": "stdout",
     "output_type": "stream",
     "text": [
      "[115, 112, 97, 109]\n",
      "[100, 64, 36, 16, 4, 0, 4, 16, 36, 64]\n"
     ]
    }
   ],
   "source": [
    "'列表解析'\n",
    "res = [ord(x) for x in 'spam']\n",
    "print(res)\n",
    "\n",
    "a = [x**2 for x in range(-10,10) if x % 2 == 0]\n",
    "print(a)"
   ]
  },
  {
   "cell_type": "markdown",
   "metadata": {},
   "source": [
    "# 生成器\n",
    "## 生成器函数\n",
    "yield "
   ]
  },
  {
   "cell_type": "code",
   "execution_count": 21,
   "metadata": {
    "collapsed": false
   },
   "outputs": [
    {
     "name": "stdout",
     "output_type": "stream",
     "text": [
      "0 1 4 9 \n",
      "1 in while\n",
      "9 in while\n",
      "25 in while\n",
      "49 in while\n",
      "81 in while\n",
      "\n",
      "<class 'generator'>\n",
      "1\n",
      "in while\n",
      "9\n",
      "1\n"
     ]
    }
   ],
   "source": [
    "def gensquares(N):\n",
    "    for i in range(N):\n",
    "        yield i ** 2\n",
    "\n",
    "for i in gensquares(4):\n",
    "    print(i,end = ' ')\n",
    "print()\n",
    "\n",
    "def test(N):\n",
    "    i = 0\n",
    "    while(i < N):\n",
    "        i = i + 1\n",
    "        yield i ** 2\n",
    "        print('in while')\n",
    "        i = i + 1\n",
    "\n",
    "for i in test(10):\n",
    "    print(i, end = ' ')\n",
    "print()\n",
    "\n",
    "a = test(3)\n",
    "print(type(a))\n",
    "print(a.__next__())\n",
    "print(a.__next__())\n",
    "# print(a.__next__())\n",
    "b = test(3)\n",
    "print(next(b))"
   ]
  },
  {
   "cell_type": "markdown",
   "metadata": {},
   "source": [
    "## 生成器表达式\n",
    "和列表解析类似，用圆括号括住\n",
    "\n",
    "* 生成器和生成器函数都是 **单迭代对象**\n",
    "也就是iter(g) is g\n",
    "\n",
    "- 单迭代对象：只要对象定的话，无论你是否再调用iter()对象，甚至是把这个对象赋值给其他变量名，你会发现这些变量指的是同一个地方\n",
    "- 多迭代对象：你可以通过iter()方法来产生一个迭代器对象，并且将它赋值给一个变量名，如果你再对对象调用iter()方法的话，把它赋值给另一个变量名，你会发现这两个迭代对象不是指向同一个位置。"
   ]
  },
  {
   "cell_type": "code",
   "execution_count": 28,
   "metadata": {
    "collapsed": false
   },
   "outputs": [
    {
     "name": "stdout",
     "output_type": "stream",
     "text": [
      "<class 'generator'>\n",
      "<class 'generator'>\n",
      "0\n",
      "1\n"
     ]
    },
    {
     "data": {
      "text/plain": [
       "generator"
      ]
     },
     "execution_count": 28,
     "metadata": {},
     "output_type": "execute_result"
    }
   ],
   "source": [
    "print(type(a))\n",
    "c = (i ** 2 for i in range(10))\n",
    "print(type(c))\n",
    "print(c.__next__())\n",
    "print(next(c))\n",
    "i = iter(c)\n",
    "type(i)"
   ]
  },
  {
   "cell_type": "code",
   "execution_count": 30,
   "metadata": {
    "collapsed": false
   },
   "outputs": [
    {
     "name": "stdout",
     "output_type": "stream",
     "text": [
      "[0, 1, 4, 9, 16, 25, 36, 49, 64, 81]\n",
      "<generator object <genexpr> at 0x000001FE85E2D620>\n",
      "{0, 1, 64, 4, 36, 9, 16, 49, 81, 25}\n",
      "{0: 0, 1: 1, 2: 4, 3: 9, 4: 16, 5: 25, 6: 36, 7: 49, 8: 64, 9: 81}\n"
     ]
    }
   ],
   "source": [
    "'列表解析总结'\n",
    "a = [x * x for x in range(10)]\n",
    "print(a)\n",
    "a = (x * x for x in range(10))\n",
    "print(a)\n",
    "a = {x * x for x in range(10)}\n",
    "print(a)\n",
    "a = {x: x * x for x in range(10)}\n",
    "print(a)"
   ]
  }
 ],
 "metadata": {
  "anaconda-cloud": {},
  "kernelspec": {
   "display_name": "Python [Root]",
   "language": "python",
   "name": "Python [Root]"
  },
  "language_info": {
   "codemirror_mode": {
    "name": "ipython",
    "version": 3
   },
   "file_extension": ".py",
   "mimetype": "text/x-python",
   "name": "python",
   "nbconvert_exporter": "python",
   "pygments_lexer": "ipython3",
   "version": "3.5.2"
  }
 },
 "nbformat": 4,
 "nbformat_minor": 0
}
